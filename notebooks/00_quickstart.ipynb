{
 "cells": [
  {
   "cell_type": "markdown",
   "metadata": {},
   "source": [
    "# Quickstart\n",
    "\n",
    "Este notebook resume as principais etapas do pipeline:\n",
    "\n",
    "1. Configure o ambiente (`make install`).\n",
    "2. Execute `python -m src.cli all` para rodar todo o fluxo.\n",
    "3. Explore as saídas em `reports/` e `models/`.\n",
    "\n",
    "Use este espaço para análises adicionais ou storytelling do TCC."
   ]
  }
 ],
 "metadata": {
  "kernelspec": {
   "display_name": "Python 3",
   "language": "python",
   "name": "python3"
  },
  "language_info": {
   "name": "python",
   "version": ""
  }
 },
 "nbformat": 4,
 "nbformat_minor": 5
}
